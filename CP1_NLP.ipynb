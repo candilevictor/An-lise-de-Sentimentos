{
  "nbformat": 4,
  "nbformat_minor": 0,
  "metadata": {
    "colab": {
      "provenance": []
    },
    "kernelspec": {
      "name": "python3",
      "display_name": "Python 3"
    },
    "language_info": {
      "name": "python"
    }
  },
  "cells": [
    {
      "cell_type": "markdown",
      "source": [
        "# Victor Candile Monteiro Barbosa - 98846\n",
        "# Gustavo Candile Monteiro Barbosa - 98852\n",
        "# Vitor Blankenburg Soares Tavares  - 99079\n",
        "# Otávio Lira Neves - 552476"
      ],
      "metadata": {
        "id": "o_zAt6831WgV"
      }
    },
    {
      "cell_type": "code",
      "source": [
        "def coletar_comentarios():\n",
        "    comentarios = [\n",
        "        \"Acabei de assistir ao novo episódio da minha série favorita! Incrível como sempre. #amoraserie\",\n",
        "        \"Que dia lindo para uma caminhada no parque! ☀️ #natureza #relaxamento\",\n",
        "        \"Não acredito que o meu time perdeu de novo. Que frustração! 😞 #futebol #decepção\",\n",
        "        \"Acabei de experimentar essa nova receita de bolo e ficou maravilhosa! Recomendo a todos. 🍰 #culinária\",\n",
        "        \"Que saudades dos tempos de escola! Lembranças incríveis. #nostalgia #amizade\",\n",
        "        \"Estou tão empolgado para o lançamento do novo filme da Marvel! Mal posso esperar para assistir. 🎬 #cinema #marvel\",\n",
        "        \"Acordei com uma energia incrível hoje! Pronto para conquistar o dia. 💪 #positividade\",\n",
        "        \"Que trânsito caótico hoje. Demorei o dobro do tempo para chegar ao trabalho. 😩 #trânsito #estresse\",\n",
        "        \"Não consigo parar de ouvir essa música! É viciante demais. 🎶 #música #vício\",\n",
        "        \"Essa notícia é muito triste. Meu coração está partido. 💔 #tristeza #solidariedade\"\n",
        "    ]\n",
        "    return comentarios\n",
        "\n",
        "palavras_positivas = {'incrível', 'maravilhosa', 'empolgado', 'pronto', 'conquistar', 'favorita', 'lindo', 'recomendo', 'incriveis', 'positividade', 'viciante', 'gostoso', 'ótimo', 'alegre'}\n",
        "palavras_negativas = {'frustração', 'perdeu', 'trânsito', 'demorei', 'estresse', 'triste', 'coração', 'decepção', 'não', 'tristeza', 'partido', 'ruim', 'terrível', 'chateado'}\n",
        "\n",
        "def remover_pontuacoes(texto):\n",
        "    pontuacoes = ['!', '\"', '#', '$', '%', '&', \"'\", '(', ')', '*', '+', ',', '-', '.', '/', ':', ';', '<', '=', '>', '?', '@', '[', '\\\\', ']', '^', '_', '`', '{', '|', '}', '~']\n",
        "    texto_sem_pontuacoes = \"\"\n",
        "    for char in texto:\n",
        "        if char not in pontuacoes:\n",
        "            texto_sem_pontuacoes += char\n",
        "    return texto_sem_pontuacoes\n",
        "\n",
        "def remover_stopwords(texto):\n",
        "    stopwords = set(['a', 'o', 'e', 'é', 'de', 'do', 'da', 'em', 'com', 'para', 'que', 'eu', 'me', 'se', 'uma', 'um', 'por', 'na', 'no', 'as', 'os', 'não', 'mas', 'ao', 'mais', 'como', 'ou', 'dos', 'sua', 'seu', 'são', 'sobre', 'ser', 'foi', 'quando', 'entre', 'pelo', 'pela', 'isso', 'ele', 'essa', 'isso', 'isso', 'isso'])\n",
        "    palavras = texto.split()\n",
        "    texto_sem_stopwords = ' '.join([palavra for palavra in palavras if palavra not in stopwords])\n",
        "    return texto_sem_stopwords\n",
        "\n",
        "def preprocessamento(texto):\n",
        "    texto_sem_pontuacoes = remover_pontuacoes(texto)\n",
        "    texto_sem_pontuacoes = texto_sem_pontuacoes.lower()\n",
        "    texto_sem_stopwords = remover_stopwords(texto_sem_pontuacoes)\n",
        "    tokens = texto_sem_stopwords.split()\n",
        "    return tokens\n",
        "\n",
        "def calcular_sentimento(texto):\n",
        "    tokens = preprocessamento(texto)\n",
        "    count_positivas = sum(1 for token in tokens if token in palavras_positivas)\n",
        "    count_negativas = sum(1 for token in tokens if token in palavras_negativas)\n",
        "    if count_positivas > count_negativas:\n",
        "        return \"Positivo\"\n",
        "    elif count_negativas > count_positivas:\n",
        "        return \"Negativo\"\n",
        "    else:\n",
        "        return \"Neutro\"\n",
        "\n",
        "comentarios = coletar_comentarios()\n",
        "\n",
        "for i, comentario in enumerate(comentarios):\n",
        "    sentimento = calcular_sentimento(comentario)\n",
        "    print(f\"Comentário {i+1}:\")\n",
        "    print(\"Texto original:\", comentario)\n",
        "    print(\"Tokens após pré-processamento:\", preprocessamento(comentario))\n",
        "    print(\"Sentimento:\", sentimento)\n",
        "    print()\n"
      ],
      "metadata": {
        "colab": {
          "base_uri": "https://localhost:8080/"
        },
        "id": "olUwCvALyE2H",
        "outputId": "c0edafa4-1053-4d7b-9d45-ff323c46197a"
      },
      "execution_count": 1,
      "outputs": [
        {
          "output_type": "stream",
          "name": "stdout",
          "text": [
            "Comentário 1:\n",
            "Texto original: Acabei de assistir ao novo episódio da minha série favorita! Incrível como sempre. #amoraserie\n",
            "Tokens após pré-processamento: ['acabei', 'assistir', 'novo', 'episódio', 'minha', 'série', 'favorita', 'incrível', 'sempre', 'amoraserie']\n",
            "Sentimento: Positivo\n",
            "\n",
            "Comentário 2:\n",
            "Texto original: Que dia lindo para uma caminhada no parque! ☀️ #natureza #relaxamento\n",
            "Tokens após pré-processamento: ['dia', 'lindo', 'caminhada', 'parque', '☀️', 'natureza', 'relaxamento']\n",
            "Sentimento: Positivo\n",
            "\n",
            "Comentário 3:\n",
            "Texto original: Não acredito que o meu time perdeu de novo. Que frustração! 😞 #futebol #decepção\n",
            "Tokens após pré-processamento: ['acredito', 'meu', 'time', 'perdeu', 'novo', 'frustração', '😞', 'futebol', 'decepção']\n",
            "Sentimento: Negativo\n",
            "\n",
            "Comentário 4:\n",
            "Texto original: Acabei de experimentar essa nova receita de bolo e ficou maravilhosa! Recomendo a todos. 🍰 #culinária\n",
            "Tokens após pré-processamento: ['acabei', 'experimentar', 'nova', 'receita', 'bolo', 'ficou', 'maravilhosa', 'recomendo', 'todos', '🍰', 'culinária']\n",
            "Sentimento: Positivo\n",
            "\n",
            "Comentário 5:\n",
            "Texto original: Que saudades dos tempos de escola! Lembranças incríveis. #nostalgia #amizade\n",
            "Tokens após pré-processamento: ['saudades', 'tempos', 'escola', 'lembranças', 'incríveis', 'nostalgia', 'amizade']\n",
            "Sentimento: Neutro\n",
            "\n",
            "Comentário 6:\n",
            "Texto original: Estou tão empolgado para o lançamento do novo filme da Marvel! Mal posso esperar para assistir. 🎬 #cinema #marvel\n",
            "Tokens após pré-processamento: ['estou', 'tão', 'empolgado', 'lançamento', 'novo', 'filme', 'marvel', 'mal', 'posso', 'esperar', 'assistir', '🎬', 'cinema', 'marvel']\n",
            "Sentimento: Positivo\n",
            "\n",
            "Comentário 7:\n",
            "Texto original: Acordei com uma energia incrível hoje! Pronto para conquistar o dia. 💪 #positividade\n",
            "Tokens após pré-processamento: ['acordei', 'energia', 'incrível', 'hoje', 'pronto', 'conquistar', 'dia', '💪', 'positividade']\n",
            "Sentimento: Positivo\n",
            "\n",
            "Comentário 8:\n",
            "Texto original: Que trânsito caótico hoje. Demorei o dobro do tempo para chegar ao trabalho. 😩 #trânsito #estresse\n",
            "Tokens após pré-processamento: ['trânsito', 'caótico', 'hoje', 'demorei', 'dobro', 'tempo', 'chegar', 'trabalho', '😩', 'trânsito', 'estresse']\n",
            "Sentimento: Negativo\n",
            "\n",
            "Comentário 9:\n",
            "Texto original: Não consigo parar de ouvir essa música! É viciante demais. 🎶 #música #vício\n",
            "Tokens após pré-processamento: ['consigo', 'parar', 'ouvir', 'música', 'viciante', 'demais', '🎶', 'música', 'vício']\n",
            "Sentimento: Positivo\n",
            "\n",
            "Comentário 10:\n",
            "Texto original: Essa notícia é muito triste. Meu coração está partido. 💔 #tristeza #solidariedade\n",
            "Tokens após pré-processamento: ['notícia', 'muito', 'triste', 'meu', 'coração', 'está', 'partido', '💔', 'tristeza', 'solidariedade']\n",
            "Sentimento: Negativo\n",
            "\n"
          ]
        }
      ]
    }
  ]
}